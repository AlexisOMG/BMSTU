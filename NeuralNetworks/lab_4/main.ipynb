{
 "cells": [
  {
   "cell_type": "code",
   "execution_count": 2,
   "metadata": {},
   "outputs": [],
   "source": [
    "import pickle\n",
    "import numpy as np"
   ]
  },
  {
   "cell_type": "code",
   "execution_count": 3,
   "metadata": {},
   "outputs": [],
   "source": [
    "def mnist_load():\n",
    "    with open(\"mnist.pkl\", \"rb\") as f:\n",
    "        mnist = pickle.load(f)\n",
    "    return (\n",
    "        mnist[\"training_images\"][:len(mnist[\"training_images\"])//2]/255.0,\n",
    "        [[int(i == y) for i in range(10)] for y in mnist[\"training_labels\"][:len(mnist[\"training_labels\"])//2]],\n",
    "        mnist[\"test_images\"][:len(mnist[\"test_images\"])//2]/255.0,\n",
    "        [[int(i == y) for i in range(10)] for y in mnist[\"test_labels\"][:len(mnist[\"test_labels\"])//2]],\n",
    "    )"
   ]
  },
  {
   "cell_type": "code",
   "execution_count": 4,
   "metadata": {},
   "outputs": [],
   "source": [
    "def get_distance(x, y):\n",
    "    return np.linalg.norm(x - y, axis=0)"
   ]
  },
  {
   "cell_type": "code",
   "execution_count": 5,
   "metadata": {},
   "outputs": [],
   "source": [
    "def kmeans_cust(xs, k, max_iters=1000):\n",
    "    conv = False\n",
    "    centroids = xs[np.random.choice(range(len(xs)), size=k, replace=False)]\n",
    "    \n",
    "    it = 0\n",
    "    while (not conv) and it < max_iters:\n",
    "        clusters = [[] for _ in range(len(centroids))]\n",
    "        for x in xs:\n",
    "            min_dist = np.inf\n",
    "            closest_c = -1\n",
    "            for j, c in enumerate(centroids):\n",
    "                dist = get_distance(x, c)\n",
    "                if dist < min_dist:\n",
    "                    min_dist = dist\n",
    "                    closest_c = j\n",
    "            clusters[closest_c].append(x)\n",
    "        clusters = [c for c in clusters if c]\n",
    "        prev_centroids = centroids.copy()\n",
    "        centroids = [np.mean(c, axis=0) for c in clusters]\n",
    "        \n",
    "        conv = len(prev_centroids) == len(centroids) and np.allclose(prev_centroids, centroids)\n",
    "        it += 1\n",
    "            \n",
    "    return np.array(centroids), [np.std(x) for x in clusters]"
   ]
  },
  {
   "cell_type": "code",
   "execution_count": 6,
   "metadata": {},
   "outputs": [],
   "source": [
    "from sklearn.cluster import KMeans"
   ]
  },
  {
   "cell_type": "code",
   "execution_count": 7,
   "metadata": {},
   "outputs": [],
   "source": [
    "def kmeans(xs, k, max_iters=1000):\n",
    "    centroids = KMeans(n_clusters=k, max_iter=max_iters).fit(xs).cluster_centers_\n",
    "\n",
    "    max_d = -1\n",
    "    for i in range(len(centroids)):\n",
    "        for j in range(i, len(centroids)):\n",
    "            max_d = max(get_distance(centroids[i], centroids[j]), max_d)\n",
    "    return np.array(centroids), [max_d for c in centroids]"
   ]
  },
  {
   "cell_type": "code",
   "execution_count": 8,
   "metadata": {},
   "outputs": [],
   "source": [
    "class RBF:\n",
    "  def __init__(self, k, size):\n",
    "    self.classes = 10\n",
    "    self.k = k\n",
    "    self.size = size\n",
    "    self.centroids = None\n",
    "    self.stds = None\n",
    "    self.weights = None\n",
    "  def rbf(self, x, c, std):\n",
    "    return 1 / np.exp(-get_distance(x, c) / std**2)\n",
    "  def train(self, X, y):\n",
    "    self.centroids, self.stds = kmeans(X, self.k)\n",
    "    \n",
    "    act = np.array([np.array([self.rbf(x, c, s) for c, s in zip(self.centroids, self.stds)]) for x in X])\n",
    "\n",
    "    self.weights = np.linalg.pinv(act.T @ act) @ act.T @ y\n",
    "\n",
    "    out = act @ self.weights\n",
    "    cnt = 0\n",
    "    for i in range(X.shape[0]):\n",
    "      if np.argmax(out[i]) == np.argmax(y[i]):\n",
    "        cnt += 1\n",
    "    \n",
    "    return cnt / X.shape[0]\n",
    "\n",
    "  "
   ]
  },
  {
   "cell_type": "code",
   "execution_count": 9,
   "metadata": {},
   "outputs": [
    {
     "name": "stdout",
     "output_type": "stream",
     "text": [
      "5000\n"
     ]
    }
   ],
   "source": [
    "train_data, train_labels, test_data, test_labels = mnist_load()\n",
    "print(len(test_data))"
   ]
  },
  {
   "cell_type": "code",
   "execution_count": 10,
   "metadata": {},
   "outputs": [
    {
     "name": "stdout",
     "output_type": "stream",
     "text": [
      "Clusters: 10, Accuracy: 0.6293666666666666\n",
      "Clusters: 40, Accuracy: 0.8625\n",
      "Clusters: 80, Accuracy: 0.8975666666666666\n",
      "Clusters: 100, Accuracy: 0.9068333333333334\n"
     ]
    }
   ],
   "source": [
    "ks = [10, 40, 80, 100]\n",
    "for k in ks:\n",
    "  rbf = RBF(k, 10)\n",
    "  print(f'Clusters: {k}, Accuracy: {rbf.train(train_data, train_labels)}')\n"
   ]
  }
 ],
 "metadata": {
  "kernelspec": {
   "display_name": "Python 3.10.6 64-bit",
   "language": "python",
   "name": "python3"
  },
  "language_info": {
   "codemirror_mode": {
    "name": "ipython",
    "version": 3
   },
   "file_extension": ".py",
   "mimetype": "text/x-python",
   "name": "python",
   "nbconvert_exporter": "python",
   "pygments_lexer": "ipython3",
   "version": "3.10.6 (main, Nov 14 2022, 16:10:14) [GCC 11.3.0]"
  },
  "orig_nbformat": 4,
  "vscode": {
   "interpreter": {
    "hash": "916dbcbb3f70747c44a77c7bcd40155683ae19c65e1c03b4aa3499c5328201f1"
   }
  }
 },
 "nbformat": 4,
 "nbformat_minor": 2
}
